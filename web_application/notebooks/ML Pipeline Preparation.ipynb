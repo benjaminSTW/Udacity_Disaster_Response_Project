{
 "cells": [
  {
   "cell_type": "markdown",
   "metadata": {},
   "source": [
    "# ML Pipeline Preparation\n",
    "Follow the instructions below to help you create your ML pipeline.\n",
    "### 1. Import libraries and load data from database.\n",
    "- Import Python libraries\n",
    "- Load dataset from database with [`read_sql_table`](https://pandas.pydata.org/pandas-docs/stable/generated/pandas.read_sql_table.html)\n",
    "- Define feature and target variables X and Y"
   ]
  },
  {
   "cell_type": "code",
   "execution_count": 1,
   "metadata": {},
   "outputs": [],
   "source": [
    "# import libraries\n",
    "import pandas as pd\n",
    "from sqlalchemy import create_engine\n",
    "from nltk.tokenize import word_tokenize\n",
    "from nltk.stem import WordNetLemmatizer\n",
    "from sklearn.pipeline import Pipeline\n",
    "from sklearn.feature_extraction.text import CountVectorizer, TfidfTransformer\n",
    "from sklearn.multioutput import MultiOutputClassifier\n",
    "from sklearn.ensemble import RandomForestClassifier,AdaBoostClassifier\n",
    "from sklearn.model_selection import train_test_split\n",
    "from sklearn.metrics import  classification_report\n",
    "from sklearn.model_selection import GridSearchCV\n",
    "import pickle"
   ]
  },
  {
   "cell_type": "code",
   "execution_count": 2,
   "metadata": {},
   "outputs": [],
   "source": [
    "# load data from database\n",
    "engine = create_engine('sqlite:///db_udacity_ETL.db')\n",
    "df = pd.read_sql_table('TF_Messages',con=engine)\n",
    "#creation of our X variable containing only messages\n",
    "X = df['message']\n",
    "#creation of our X variable with all the columns except the messages\n",
    "Y =df.drop(columns=['message'])"
   ]
  },
  {
   "cell_type": "markdown",
   "metadata": {},
   "source": [
    "### 2. Write a tokenization function to process your text data"
   ]
  },
  {
   "cell_type": "code",
   "execution_count": 3,
   "metadata": {},
   "outputs": [
    {
     "name": "stderr",
     "output_type": "stream",
     "text": [
      "<>:1: SyntaxWarning: invalid escape sequence '\\('\n",
      "<>:1: SyntaxWarning: invalid escape sequence '\\('\n",
      "/var/folders/7v/57lr0j397qb3kwvl259j828h0000gn/T/ipykernel_22580/3010515617.py:1: SyntaxWarning: invalid escape sequence '\\('\n",
      "  url_regex = 'http[s]?://(?:[a-zA-Z]|[0-9]|[$-_@.&+]|[!*\\(\\),]|(?:%[0-9a-fA-F][0-9a-fA-F]))+'\n"
     ]
    }
   ],
   "source": [
    "url_regex = 'http[s]?://(?:[a-zA-Z]|[0-9]|[$-_@.&+]|[!*\\(\\),]|(?:%[0-9a-fA-F][0-9a-fA-F]))+'\n",
    "\n",
    "def tokenize(text):\n",
    "    '''\n",
    "    Returns the list of cleaned words from the input message\n",
    "\n",
    "            Parameters:\n",
    "                    text (string): the message (text) to clean\n",
    "\n",
    "            Returns:\n",
    "                    clean_tokens (array): array of the cleaned words from the input message.\n",
    "    '''\n",
    "    tokens = word_tokenize(text) #We split the message into word\n",
    "    lemmatizer = WordNetLemmatizer() #Instantiation of WordNetLemmatizer()\n",
    "\n",
    "    clean_tokens = []\n",
    "    for tok in tokens:\n",
    "        clean_tok = lemmatizer.lemmatize(tok).lower().strip() # Lemmatize, lower_cap and remove spaces\n",
    "        clean_tokens.append(clean_tok) #append clean words to the results clean_tokens\n",
    "\n",
    "    return clean_tokens"
   ]
  },
  {
   "cell_type": "markdown",
   "metadata": {},
   "source": [
    "### 3. Build a machine learning pipeline\n",
    "This machine pipeline should take in the `message` column as input and output classification results on the other 36 categories in the dataset. You may find the [MultiOutputClassifier](http://scikit-learn.org/stable/modules/generated/sklearn.multioutput.MultiOutputClassifier.html) helpful for predicting multiple target variables."
   ]
  },
  {
   "cell_type": "code",
   "execution_count": null,
   "metadata": {},
   "outputs": [],
   "source": [
    "#We create our Pipeline \n",
    "pipeline = Pipeline([\n",
    "        ('vect', CountVectorizer(tokenizer=tokenize)),\n",
    "        ('tfidf', TfidfTransformer()),\n",
    "        ('clf', MultiOutputClassifier(RandomForestClassifier()))])"
   ]
  },
  {
   "cell_type": "markdown",
   "metadata": {},
   "source": [
    "### 4. Train pipeline\n",
    "- Split data into train and test sets\n",
    "- Train pipeline"
   ]
  },
  {
   "cell_type": "code",
   "execution_count": 7,
   "metadata": {},
   "outputs": [],
   "source": [
    "#Create of the train/test dataset from X and Y variables\n",
    "X_train, X_test, y_train, y_test = train_test_split(X, Y)\n",
    "#we fit our model using the pipeline and the train variables.\n",
    "pipeline.fit(X_train,y_train)"
   ]
  },
  {
   "cell_type": "markdown",
   "metadata": {},
   "source": [
    "### 5. Test your model\n",
    "Report the f1 score, precision and recall for each output category of the dataset. You can do this by iterating through the columns and calling sklearn's `classification_report` on each."
   ]
  },
  {
   "cell_type": "code",
   "execution_count": null,
   "metadata": {},
   "outputs": [],
   "source": [
    "#we predict and display classification report\n",
    "y_pred = pipeline.predict(X_test)\n",
    "for index,c in enumerate(y_test.columns):\n",
    "    print (\"---\" +c+ \"---\")\n",
    "    print(classification_report (y_test.iloc[:,index].values, y_pred[:,index]))"
   ]
  },
  {
   "cell_type": "markdown",
   "metadata": {},
   "source": [
    "### 6. Improve your model\n",
    "Use grid search to find better parameters. "
   ]
  },
  {
   "cell_type": "code",
   "execution_count": null,
   "metadata": {},
   "outputs": [],
   "source": [
    "#to know with paramaters can be tweaked\n",
    "pipeline.get_params().keys()"
   ]
  },
  {
   "cell_type": "code",
   "execution_count": null,
   "metadata": {},
   "outputs": [],
   "source": [
    "#definition of the parameters with the values to be tested\n",
    "parameters = {\n",
    "    \n",
    "    'clf__estimator__n_estimators': [100,150,200],\n",
    "    'clf__estimator__max_depth' : range (3,10,15)\n",
    "}\n",
    "#creation of the gridSearch with the usage of all cpu available\n",
    "cv = GridSearchCV(pipeline, param_grid=parameters, n_jobs=-1,verbose=2) \n",
    "#we fit the GridSearch to identfy the best parameters\n",
    "cv.fit (X_train,y_train)"
   ]
  },
  {
   "cell_type": "code",
   "execution_count": null,
   "metadata": {},
   "outputs": [],
   "source": [
    "#let's see what are the best parameters\n",
    "print(cv.best_params_)\n",
    "#store the best model \n",
    "cv_best = cv.best_estimator_"
   ]
  },
  {
   "cell_type": "markdown",
   "metadata": {},
   "source": [
    "### 7. Test your model\n",
    "Show the accuracy, precision, and recall of the tuned model.  \n",
    "\n",
    "Since this project focuses on code quality, process, and  pipelines, there is no minimum performance metric needed to pass. However, make sure to fine tune your models for accuracy, precision and recall to make your project stand out - especially for your portfolio!"
   ]
  },
  {
   "cell_type": "code",
   "execution_count": null,
   "metadata": {},
   "outputs": [],
   "source": [
    "y_pred_cv = cv_best.predict(X_test)\n",
    "for index,c in enumerate(y_test.columns):\n",
    "    print (\"---\" +c+ \"---\")\n",
    "    print(classification_report (y_test.iloc[:,index].values, y_pred_cv[:,index]))"
   ]
  },
  {
   "cell_type": "markdown",
   "metadata": {},
   "source": [
    "### 8. Try improving your model further. Here are a few ideas:\n",
    "* try other machine learning algorithms\n",
    "* add other features besides the TF-IDF"
   ]
  },
  {
   "cell_type": "code",
   "execution_count": 8,
   "metadata": {},
   "outputs": [],
   "source": [
    "\n",
    "#try with a Gradient Boosting Classifier\n",
    "pipeline_GB = Pipeline([\n",
    "        ('vect', CountVectorizer(tokenizer=tokenize)),\n",
    "        ('tfidf', TfidfTransformer()),\n",
    "        ('ada_clf', MultiOutputClassifier(AdaBoostClassifier()))])"
   ]
  },
  {
   "cell_type": "code",
   "execution_count": 9,
   "metadata": {},
   "outputs": [
    {
     "data": {
      "text/plain": [
       "dict_keys(['memory', 'steps', 'verbose', 'vect', 'tfidf', 'ada_clf', 'vect__analyzer', 'vect__binary', 'vect__decode_error', 'vect__dtype', 'vect__encoding', 'vect__input', 'vect__lowercase', 'vect__max_df', 'vect__max_features', 'vect__min_df', 'vect__ngram_range', 'vect__preprocessor', 'vect__stop_words', 'vect__strip_accents', 'vect__token_pattern', 'vect__tokenizer', 'vect__vocabulary', 'tfidf__norm', 'tfidf__smooth_idf', 'tfidf__sublinear_tf', 'tfidf__use_idf', 'ada_clf__estimator__algorithm', 'ada_clf__estimator__base_estimator', 'ada_clf__estimator__estimator', 'ada_clf__estimator__learning_rate', 'ada_clf__estimator__n_estimators', 'ada_clf__estimator__random_state', 'ada_clf__estimator', 'ada_clf__n_jobs'])"
      ]
     },
     "execution_count": 9,
     "metadata": {},
     "output_type": "execute_result"
    }
   ],
   "source": [
    "#to know with paramaters can be tweaked\n",
    "pipeline_GB.get_params().keys()"
   ]
  },
  {
   "cell_type": "code",
   "execution_count": 10,
   "metadata": {},
   "outputs": [
    {
     "name": "stdout",
     "output_type": "stream",
     "text": [
      "Fitting 5 folds for each of 9 candidates, totalling 45 fits\n"
     ]
    },
    {
     "name": "stderr",
     "output_type": "stream",
     "text": [
      "/Users/benjaminscaillierez/miniforge3/envs/udacityM1/lib/python3.12/site-packages/sklearn/feature_extraction/text.py:525: UserWarning: The parameter 'token_pattern' will not be used since 'tokenizer' is not None'\n",
      "  warnings.warn(\n",
      "/Users/benjaminscaillierez/miniforge3/envs/udacityM1/lib/python3.12/site-packages/sklearn/feature_extraction/text.py:525: UserWarning: The parameter 'token_pattern' will not be used since 'tokenizer' is not None'\n",
      "  warnings.warn(\n",
      "/Users/benjaminscaillierez/miniforge3/envs/udacityM1/lib/python3.12/site-packages/sklearn/feature_extraction/text.py:525: UserWarning: The parameter 'token_pattern' will not be used since 'tokenizer' is not None'\n",
      "  warnings.warn(\n",
      "/Users/benjaminscaillierez/miniforge3/envs/udacityM1/lib/python3.12/site-packages/sklearn/feature_extraction/text.py:525: UserWarning: The parameter 'token_pattern' will not be used since 'tokenizer' is not None'\n",
      "  warnings.warn(\n",
      "/Users/benjaminscaillierez/miniforge3/envs/udacityM1/lib/python3.12/site-packages/sklearn/feature_extraction/text.py:525: UserWarning: The parameter 'token_pattern' will not be used since 'tokenizer' is not None'\n",
      "  warnings.warn(\n",
      "/Users/benjaminscaillierez/miniforge3/envs/udacityM1/lib/python3.12/site-packages/sklearn/feature_extraction/text.py:525: UserWarning: The parameter 'token_pattern' will not be used since 'tokenizer' is not None'\n",
      "  warnings.warn(\n",
      "/Users/benjaminscaillierez/miniforge3/envs/udacityM1/lib/python3.12/site-packages/sklearn/feature_extraction/text.py:525: UserWarning: The parameter 'token_pattern' will not be used since 'tokenizer' is not None'\n",
      "  warnings.warn(\n",
      "/Users/benjaminscaillierez/miniforge3/envs/udacityM1/lib/python3.12/site-packages/sklearn/feature_extraction/text.py:525: UserWarning: The parameter 'token_pattern' will not be used since 'tokenizer' is not None'\n",
      "  warnings.warn(\n"
     ]
    },
    {
     "name": "stdout",
     "output_type": "stream",
     "text": [
      "[CV] END ada_clf__estimator__learning_rate=0.5, ada_clf__estimator__n_estimators=100; total time= 3.0min\n"
     ]
    },
    {
     "name": "stderr",
     "output_type": "stream",
     "text": [
      "/Users/benjaminscaillierez/miniforge3/envs/udacityM1/lib/python3.12/site-packages/sklearn/feature_extraction/text.py:525: UserWarning: The parameter 'token_pattern' will not be used since 'tokenizer' is not None'\n",
      "  warnings.warn(\n"
     ]
    },
    {
     "name": "stdout",
     "output_type": "stream",
     "text": [
      "[CV] END ada_clf__estimator__learning_rate=0.5, ada_clf__estimator__n_estimators=100; total time= 3.0min\n"
     ]
    },
    {
     "name": "stderr",
     "output_type": "stream",
     "text": [
      "/Users/benjaminscaillierez/miniforge3/envs/udacityM1/lib/python3.12/site-packages/sklearn/feature_extraction/text.py:525: UserWarning: The parameter 'token_pattern' will not be used since 'tokenizer' is not None'\n",
      "  warnings.warn(\n"
     ]
    },
    {
     "name": "stdout",
     "output_type": "stream",
     "text": [
      "[CV] END ada_clf__estimator__learning_rate=0.5, ada_clf__estimator__n_estimators=100; total time= 3.0min\n"
     ]
    },
    {
     "name": "stderr",
     "output_type": "stream",
     "text": [
      "/Users/benjaminscaillierez/miniforge3/envs/udacityM1/lib/python3.12/site-packages/sklearn/feature_extraction/text.py:525: UserWarning: The parameter 'token_pattern' will not be used since 'tokenizer' is not None'\n",
      "  warnings.warn(\n"
     ]
    },
    {
     "name": "stdout",
     "output_type": "stream",
     "text": [
      "[CV] END ada_clf__estimator__learning_rate=0.5, ada_clf__estimator__n_estimators=100; total time= 3.9min\n"
     ]
    },
    {
     "name": "stderr",
     "output_type": "stream",
     "text": [
      "/Users/benjaminscaillierez/miniforge3/envs/udacityM1/lib/python3.12/site-packages/sklearn/feature_extraction/text.py:525: UserWarning: The parameter 'token_pattern' will not be used since 'tokenizer' is not None'\n",
      "  warnings.warn(\n"
     ]
    },
    {
     "name": "stdout",
     "output_type": "stream",
     "text": [
      "[CV] END ada_clf__estimator__learning_rate=0.5, ada_clf__estimator__n_estimators=100; total time= 3.9min\n"
     ]
    },
    {
     "name": "stderr",
     "output_type": "stream",
     "text": [
      "/Users/benjaminscaillierez/miniforge3/envs/udacityM1/lib/python3.12/site-packages/sklearn/feature_extraction/text.py:525: UserWarning: The parameter 'token_pattern' will not be used since 'tokenizer' is not None'\n",
      "  warnings.warn(\n"
     ]
    },
    {
     "name": "stdout",
     "output_type": "stream",
     "text": [
      "[CV] END ada_clf__estimator__learning_rate=0.5, ada_clf__estimator__n_estimators=150; total time= 4.4min\n"
     ]
    },
    {
     "name": "stderr",
     "output_type": "stream",
     "text": [
      "/Users/benjaminscaillierez/miniforge3/envs/udacityM1/lib/python3.12/site-packages/sklearn/feature_extraction/text.py:525: UserWarning: The parameter 'token_pattern' will not be used since 'tokenizer' is not None'\n",
      "  warnings.warn(\n"
     ]
    },
    {
     "name": "stdout",
     "output_type": "stream",
     "text": [
      "[CV] END ada_clf__estimator__learning_rate=0.5, ada_clf__estimator__n_estimators=150; total time= 4.4min\n"
     ]
    },
    {
     "name": "stderr",
     "output_type": "stream",
     "text": [
      "/Users/benjaminscaillierez/miniforge3/envs/udacityM1/lib/python3.12/site-packages/sklearn/feature_extraction/text.py:525: UserWarning: The parameter 'token_pattern' will not be used since 'tokenizer' is not None'\n",
      "  warnings.warn(\n"
     ]
    },
    {
     "name": "stdout",
     "output_type": "stream",
     "text": [
      "[CV] END ada_clf__estimator__learning_rate=0.5, ada_clf__estimator__n_estimators=150; total time= 5.4min\n"
     ]
    },
    {
     "name": "stderr",
     "output_type": "stream",
     "text": [
      "/Users/benjaminscaillierez/miniforge3/envs/udacityM1/lib/python3.12/site-packages/sklearn/feature_extraction/text.py:525: UserWarning: The parameter 'token_pattern' will not be used since 'tokenizer' is not None'\n",
      "  warnings.warn(\n"
     ]
    },
    {
     "name": "stdout",
     "output_type": "stream",
     "text": [
      "[CV] END ada_clf__estimator__learning_rate=0.5, ada_clf__estimator__n_estimators=150; total time= 4.7min\n"
     ]
    },
    {
     "name": "stderr",
     "output_type": "stream",
     "text": [
      "/Users/benjaminscaillierez/miniforge3/envs/udacityM1/lib/python3.12/site-packages/sklearn/feature_extraction/text.py:525: UserWarning: The parameter 'token_pattern' will not be used since 'tokenizer' is not None'\n",
      "  warnings.warn(\n"
     ]
    },
    {
     "name": "stdout",
     "output_type": "stream",
     "text": [
      "[CV] END ada_clf__estimator__learning_rate=0.5, ada_clf__estimator__n_estimators=150; total time= 4.7min\n"
     ]
    },
    {
     "name": "stderr",
     "output_type": "stream",
     "text": [
      "/Users/benjaminscaillierez/miniforge3/envs/udacityM1/lib/python3.12/site-packages/sklearn/feature_extraction/text.py:525: UserWarning: The parameter 'token_pattern' will not be used since 'tokenizer' is not None'\n",
      "  warnings.warn(\n"
     ]
    },
    {
     "name": "stdout",
     "output_type": "stream",
     "text": [
      "[CV] END ada_clf__estimator__learning_rate=1, ada_clf__estimator__n_estimators=100; total time= 3.1min\n"
     ]
    },
    {
     "name": "stderr",
     "output_type": "stream",
     "text": [
      "/Users/benjaminscaillierez/miniforge3/envs/udacityM1/lib/python3.12/site-packages/sklearn/feature_extraction/text.py:525: UserWarning: The parameter 'token_pattern' will not be used since 'tokenizer' is not None'\n",
      "  warnings.warn(\n"
     ]
    },
    {
     "name": "stdout",
     "output_type": "stream",
     "text": [
      "[CV] END ada_clf__estimator__learning_rate=0.5, ada_clf__estimator__n_estimators=200; total time= 6.2min\n"
     ]
    },
    {
     "name": "stderr",
     "output_type": "stream",
     "text": [
      "/Users/benjaminscaillierez/miniforge3/envs/udacityM1/lib/python3.12/site-packages/sklearn/feature_extraction/text.py:525: UserWarning: The parameter 'token_pattern' will not be used since 'tokenizer' is not None'\n",
      "  warnings.warn(\n"
     ]
    },
    {
     "name": "stdout",
     "output_type": "stream",
     "text": [
      "[CV] END ada_clf__estimator__learning_rate=0.5, ada_clf__estimator__n_estimators=200; total time= 6.0min\n"
     ]
    },
    {
     "name": "stderr",
     "output_type": "stream",
     "text": [
      "/Users/benjaminscaillierez/miniforge3/envs/udacityM1/lib/python3.12/site-packages/sklearn/feature_extraction/text.py:525: UserWarning: The parameter 'token_pattern' will not be used since 'tokenizer' is not None'\n",
      "  warnings.warn(\n"
     ]
    },
    {
     "name": "stdout",
     "output_type": "stream",
     "text": [
      "[CV] END ada_clf__estimator__learning_rate=0.5, ada_clf__estimator__n_estimators=200; total time= 6.1min\n"
     ]
    },
    {
     "name": "stderr",
     "output_type": "stream",
     "text": [
      "/Users/benjaminscaillierez/miniforge3/envs/udacityM1/lib/python3.12/site-packages/sklearn/feature_extraction/text.py:525: UserWarning: The parameter 'token_pattern' will not be used since 'tokenizer' is not None'\n",
      "  warnings.warn(\n"
     ]
    },
    {
     "name": "stdout",
     "output_type": "stream",
     "text": [
      "[CV] END ada_clf__estimator__learning_rate=0.5, ada_clf__estimator__n_estimators=200; total time= 6.0min\n"
     ]
    },
    {
     "name": "stderr",
     "output_type": "stream",
     "text": [
      "/Users/benjaminscaillierez/miniforge3/envs/udacityM1/lib/python3.12/site-packages/sklearn/feature_extraction/text.py:525: UserWarning: The parameter 'token_pattern' will not be used since 'tokenizer' is not None'\n",
      "  warnings.warn(\n"
     ]
    },
    {
     "name": "stdout",
     "output_type": "stream",
     "text": [
      "[CV] END ada_clf__estimator__learning_rate=0.5, ada_clf__estimator__n_estimators=200; total time= 6.0min\n"
     ]
    },
    {
     "name": "stderr",
     "output_type": "stream",
     "text": [
      "/Users/benjaminscaillierez/miniforge3/envs/udacityM1/lib/python3.12/site-packages/sklearn/feature_extraction/text.py:525: UserWarning: The parameter 'token_pattern' will not be used since 'tokenizer' is not None'\n",
      "  warnings.warn(\n"
     ]
    },
    {
     "name": "stdout",
     "output_type": "stream",
     "text": [
      "[CV] END ada_clf__estimator__learning_rate=1, ada_clf__estimator__n_estimators=100; total time= 3.1min\n"
     ]
    },
    {
     "name": "stderr",
     "output_type": "stream",
     "text": [
      "/Users/benjaminscaillierez/miniforge3/envs/udacityM1/lib/python3.12/site-packages/sklearn/feature_extraction/text.py:525: UserWarning: The parameter 'token_pattern' will not be used since 'tokenizer' is not None'\n",
      "  warnings.warn(\n"
     ]
    },
    {
     "name": "stdout",
     "output_type": "stream",
     "text": [
      "[CV] END ada_clf__estimator__learning_rate=1, ada_clf__estimator__n_estimators=100; total time= 3.1min\n"
     ]
    },
    {
     "name": "stderr",
     "output_type": "stream",
     "text": [
      "/Users/benjaminscaillierez/miniforge3/envs/udacityM1/lib/python3.12/site-packages/sklearn/feature_extraction/text.py:525: UserWarning: The parameter 'token_pattern' will not be used since 'tokenizer' is not None'\n",
      "  warnings.warn(\n"
     ]
    },
    {
     "name": "stdout",
     "output_type": "stream",
     "text": [
      "[CV] END ada_clf__estimator__learning_rate=1, ada_clf__estimator__n_estimators=100; total time= 3.2min\n"
     ]
    },
    {
     "name": "stderr",
     "output_type": "stream",
     "text": [
      "/Users/benjaminscaillierez/miniforge3/envs/udacityM1/lib/python3.12/site-packages/sklearn/feature_extraction/text.py:525: UserWarning: The parameter 'token_pattern' will not be used since 'tokenizer' is not None'\n",
      "  warnings.warn(\n"
     ]
    },
    {
     "name": "stdout",
     "output_type": "stream",
     "text": [
      "[CV] END ada_clf__estimator__learning_rate=1, ada_clf__estimator__n_estimators=100; total time= 2.8min\n"
     ]
    },
    {
     "name": "stderr",
     "output_type": "stream",
     "text": [
      "/Users/benjaminscaillierez/miniforge3/envs/udacityM1/lib/python3.12/site-packages/sklearn/feature_extraction/text.py:525: UserWarning: The parameter 'token_pattern' will not be used since 'tokenizer' is not None'\n",
      "  warnings.warn(\n"
     ]
    },
    {
     "name": "stdout",
     "output_type": "stream",
     "text": [
      "[CV] END ada_clf__estimator__learning_rate=1, ada_clf__estimator__n_estimators=150; total time= 4.1min\n"
     ]
    },
    {
     "name": "stderr",
     "output_type": "stream",
     "text": [
      "/Users/benjaminscaillierez/miniforge3/envs/udacityM1/lib/python3.12/site-packages/sklearn/feature_extraction/text.py:525: UserWarning: The parameter 'token_pattern' will not be used since 'tokenizer' is not None'\n",
      "  warnings.warn(\n"
     ]
    },
    {
     "name": "stdout",
     "output_type": "stream",
     "text": [
      "[CV] END ada_clf__estimator__learning_rate=1, ada_clf__estimator__n_estimators=150; total time= 4.1min\n"
     ]
    },
    {
     "name": "stderr",
     "output_type": "stream",
     "text": [
      "/Users/benjaminscaillierez/miniforge3/envs/udacityM1/lib/python3.12/site-packages/sklearn/feature_extraction/text.py:525: UserWarning: The parameter 'token_pattern' will not be used since 'tokenizer' is not None'\n",
      "  warnings.warn(\n"
     ]
    },
    {
     "name": "stdout",
     "output_type": "stream",
     "text": [
      "[CV] END ada_clf__estimator__learning_rate=1, ada_clf__estimator__n_estimators=150; total time= 4.8min\n"
     ]
    },
    {
     "name": "stderr",
     "output_type": "stream",
     "text": [
      "/Users/benjaminscaillierez/miniforge3/envs/udacityM1/lib/python3.12/site-packages/sklearn/feature_extraction/text.py:525: UserWarning: The parameter 'token_pattern' will not be used since 'tokenizer' is not None'\n",
      "  warnings.warn(\n"
     ]
    },
    {
     "name": "stdout",
     "output_type": "stream",
     "text": [
      "[CV] END ada_clf__estimator__learning_rate=1, ada_clf__estimator__n_estimators=150; total time= 4.8min\n"
     ]
    },
    {
     "name": "stderr",
     "output_type": "stream",
     "text": [
      "/Users/benjaminscaillierez/miniforge3/envs/udacityM1/lib/python3.12/site-packages/sklearn/feature_extraction/text.py:525: UserWarning: The parameter 'token_pattern' will not be used since 'tokenizer' is not None'\n",
      "  warnings.warn(\n"
     ]
    },
    {
     "name": "stdout",
     "output_type": "stream",
     "text": [
      "[CV] END ada_clf__estimator__learning_rate=1, ada_clf__estimator__n_estimators=150; total time= 4.8min\n"
     ]
    },
    {
     "name": "stderr",
     "output_type": "stream",
     "text": [
      "/Users/benjaminscaillierez/miniforge3/envs/udacityM1/lib/python3.12/site-packages/sklearn/feature_extraction/text.py:525: UserWarning: The parameter 'token_pattern' will not be used since 'tokenizer' is not None'\n",
      "  warnings.warn(\n"
     ]
    },
    {
     "name": "stdout",
     "output_type": "stream",
     "text": [
      "[CV] END ada_clf__estimator__learning_rate=1, ada_clf__estimator__n_estimators=200; total time= 5.8min\n"
     ]
    },
    {
     "name": "stderr",
     "output_type": "stream",
     "text": [
      "/Users/benjaminscaillierez/miniforge3/envs/udacityM1/lib/python3.12/site-packages/sklearn/feature_extraction/text.py:525: UserWarning: The parameter 'token_pattern' will not be used since 'tokenizer' is not None'\n",
      "  warnings.warn(\n"
     ]
    },
    {
     "name": "stdout",
     "output_type": "stream",
     "text": [
      "[CV] END ada_clf__estimator__learning_rate=1, ada_clf__estimator__n_estimators=200; total time= 6.2min\n"
     ]
    },
    {
     "name": "stderr",
     "output_type": "stream",
     "text": [
      "/Users/benjaminscaillierez/miniforge3/envs/udacityM1/lib/python3.12/site-packages/sklearn/feature_extraction/text.py:525: UserWarning: The parameter 'token_pattern' will not be used since 'tokenizer' is not None'\n",
      "  warnings.warn(\n"
     ]
    },
    {
     "name": "stdout",
     "output_type": "stream",
     "text": [
      "[CV] END ada_clf__estimator__learning_rate=1, ada_clf__estimator__n_estimators=200; total time= 6.1min\n"
     ]
    },
    {
     "name": "stderr",
     "output_type": "stream",
     "text": [
      "/Users/benjaminscaillierez/miniforge3/envs/udacityM1/lib/python3.12/site-packages/sklearn/feature_extraction/text.py:525: UserWarning: The parameter 'token_pattern' will not be used since 'tokenizer' is not None'\n",
      "  warnings.warn(\n"
     ]
    },
    {
     "name": "stdout",
     "output_type": "stream",
     "text": [
      "[CV] END ada_clf__estimator__learning_rate=1.5, ada_clf__estimator__n_estimators=100; total time= 3.0min\n"
     ]
    },
    {
     "name": "stderr",
     "output_type": "stream",
     "text": [
      "/Users/benjaminscaillierez/miniforge3/envs/udacityM1/lib/python3.12/site-packages/sklearn/feature_extraction/text.py:525: UserWarning: The parameter 'token_pattern' will not be used since 'tokenizer' is not None'\n",
      "  warnings.warn(\n"
     ]
    },
    {
     "name": "stdout",
     "output_type": "stream",
     "text": [
      "[CV] END ada_clf__estimator__learning_rate=1.5, ada_clf__estimator__n_estimators=100; total time= 3.0min\n"
     ]
    },
    {
     "name": "stderr",
     "output_type": "stream",
     "text": [
      "/Users/benjaminscaillierez/miniforge3/envs/udacityM1/lib/python3.12/site-packages/sklearn/feature_extraction/text.py:525: UserWarning: The parameter 'token_pattern' will not be used since 'tokenizer' is not None'\n",
      "  warnings.warn(\n"
     ]
    },
    {
     "name": "stdout",
     "output_type": "stream",
     "text": [
      "[CV] END ada_clf__estimator__learning_rate=1.5, ada_clf__estimator__n_estimators=100; total time= 3.0min\n"
     ]
    },
    {
     "name": "stderr",
     "output_type": "stream",
     "text": [
      "/Users/benjaminscaillierez/miniforge3/envs/udacityM1/lib/python3.12/site-packages/sklearn/feature_extraction/text.py:525: UserWarning: The parameter 'token_pattern' will not be used since 'tokenizer' is not None'\n",
      "  warnings.warn(\n"
     ]
    },
    {
     "name": "stdout",
     "output_type": "stream",
     "text": [
      "[CV] END ada_clf__estimator__learning_rate=1.5, ada_clf__estimator__n_estimators=100; total time= 3.1min\n"
     ]
    },
    {
     "name": "stderr",
     "output_type": "stream",
     "text": [
      "/Users/benjaminscaillierez/miniforge3/envs/udacityM1/lib/python3.12/site-packages/sklearn/feature_extraction/text.py:525: UserWarning: The parameter 'token_pattern' will not be used since 'tokenizer' is not None'\n",
      "  warnings.warn(\n"
     ]
    },
    {
     "name": "stdout",
     "output_type": "stream",
     "text": [
      "[CV] END ada_clf__estimator__learning_rate=1, ada_clf__estimator__n_estimators=200; total time= 6.1min\n"
     ]
    },
    {
     "name": "stderr",
     "output_type": "stream",
     "text": [
      "/Users/benjaminscaillierez/miniforge3/envs/udacityM1/lib/python3.12/site-packages/sklearn/feature_extraction/text.py:525: UserWarning: The parameter 'token_pattern' will not be used since 'tokenizer' is not None'\n",
      "  warnings.warn(\n"
     ]
    },
    {
     "name": "stdout",
     "output_type": "stream",
     "text": [
      "[CV] END ada_clf__estimator__learning_rate=1, ada_clf__estimator__n_estimators=200; total time= 6.1min\n"
     ]
    },
    {
     "name": "stderr",
     "output_type": "stream",
     "text": [
      "/Users/benjaminscaillierez/miniforge3/envs/udacityM1/lib/python3.12/site-packages/sklearn/feature_extraction/text.py:525: UserWarning: The parameter 'token_pattern' will not be used since 'tokenizer' is not None'\n",
      "  warnings.warn(\n"
     ]
    },
    {
     "name": "stdout",
     "output_type": "stream",
     "text": [
      "[CV] END ada_clf__estimator__learning_rate=1.5, ada_clf__estimator__n_estimators=100; total time= 3.1min\n"
     ]
    },
    {
     "name": "stderr",
     "output_type": "stream",
     "text": [
      "/Users/benjaminscaillierez/miniforge3/envs/udacityM1/lib/python3.12/site-packages/sklearn/feature_extraction/text.py:525: UserWarning: The parameter 'token_pattern' will not be used since 'tokenizer' is not None'\n",
      "  warnings.warn(\n"
     ]
    },
    {
     "name": "stdout",
     "output_type": "stream",
     "text": [
      "[CV] END ada_clf__estimator__learning_rate=1.5, ada_clf__estimator__n_estimators=150; total time= 4.2min\n"
     ]
    },
    {
     "name": "stderr",
     "output_type": "stream",
     "text": [
      "/Users/benjaminscaillierez/miniforge3/envs/udacityM1/lib/python3.12/site-packages/sklearn/feature_extraction/text.py:525: UserWarning: The parameter 'token_pattern' will not be used since 'tokenizer' is not None'\n",
      "  warnings.warn(\n"
     ]
    },
    {
     "name": "stdout",
     "output_type": "stream",
     "text": [
      "[CV] END ada_clf__estimator__learning_rate=1.5, ada_clf__estimator__n_estimators=150; total time= 4.5min\n"
     ]
    },
    {
     "name": "stderr",
     "output_type": "stream",
     "text": [
      "/Users/benjaminscaillierez/miniforge3/envs/udacityM1/lib/python3.12/site-packages/sklearn/feature_extraction/text.py:525: UserWarning: The parameter 'token_pattern' will not be used since 'tokenizer' is not None'\n",
      "  warnings.warn(\n"
     ]
    },
    {
     "name": "stdout",
     "output_type": "stream",
     "text": [
      "[CV] END ada_clf__estimator__learning_rate=1.5, ada_clf__estimator__n_estimators=150; total time= 4.5min\n",
      "[CV] END ada_clf__estimator__learning_rate=1.5, ada_clf__estimator__n_estimators=150; total time= 4.5min\n",
      "[CV] END ada_clf__estimator__learning_rate=1.5, ada_clf__estimator__n_estimators=150; total time= 4.3min\n",
      "[CV] END ada_clf__estimator__learning_rate=1.5, ada_clf__estimator__n_estimators=200; total time= 5.4min\n",
      "[CV] END ada_clf__estimator__learning_rate=1.5, ada_clf__estimator__n_estimators=200; total time= 5.4min\n",
      "[CV] END ada_clf__estimator__learning_rate=1.5, ada_clf__estimator__n_estimators=200; total time= 5.3min\n",
      "[CV] END ada_clf__estimator__learning_rate=1.5, ada_clf__estimator__n_estimators=200; total time= 5.0min\n",
      "[CV] END ada_clf__estimator__learning_rate=1.5, ada_clf__estimator__n_estimators=200; total time= 4.9min\n"
     ]
    },
    {
     "name": "stderr",
     "output_type": "stream",
     "text": [
      "/Users/benjaminscaillierez/miniforge3/envs/udacityM1/lib/python3.12/site-packages/sklearn/feature_extraction/text.py:525: UserWarning: The parameter 'token_pattern' will not be used since 'tokenizer' is not None'\n",
      "  warnings.warn(\n"
     ]
    },
    {
     "name": "stdout",
     "output_type": "stream",
     "text": [
      "{'ada_clf__estimator__learning_rate': 0.5, 'ada_clf__estimator__n_estimators': 200}\n"
     ]
    }
   ],
   "source": [
    "\n",
    "parameters_GB = {  \n",
    "    'ada_clf__estimator__n_estimators': [100,150,200],\n",
    "    'ada_clf__estimator__learning_rate' : [0.5,1,1.5]\n",
    "}\n",
    "#creation of the gridSearch with the usage of all cpu available and Fit it\n",
    "cv_GB= GridSearchCV(pipeline_GB, param_grid=parameters_GB, n_jobs=-1,verbose=2) \n",
    "cv_GB.fit (X_train,y_train)\n",
    "#let's see what are the best parameters\n",
    "print(cv_GB.best_params_)\n",
    "#store the best model \n",
    "cv_GB_best = cv_GB.best_estimator_"
   ]
  },
  {
   "cell_type": "code",
   "execution_count": 11,
   "metadata": {},
   "outputs": [
    {
     "name": "stdout",
     "output_type": "stream",
     "text": [
      "---related---\n",
      "              precision    recall  f1-score   support\n",
      "\n",
      "           0       0.69      0.40      0.50      1536\n",
      "           1       0.84      0.95      0.89      5018\n",
      "\n",
      "    accuracy                           0.82      6554\n",
      "   macro avg       0.76      0.67      0.70      6554\n",
      "weighted avg       0.80      0.82      0.80      6554\n",
      "\n",
      "---request---\n",
      "              precision    recall  f1-score   support\n",
      "\n",
      "           0       0.92      0.97      0.94      5440\n",
      "           1       0.81      0.57      0.67      1114\n",
      "\n",
      "    accuracy                           0.91      6554\n",
      "   macro avg       0.87      0.77      0.81      6554\n",
      "weighted avg       0.90      0.91      0.90      6554\n",
      "\n",
      "---offer---\n",
      "              precision    recall  f1-score   support\n",
      "\n",
      "           0       0.99      1.00      1.00      6519\n",
      "           1       0.00      0.00      0.00        35\n",
      "\n",
      "    accuracy                           0.99      6554\n",
      "   macro avg       0.50      0.50      0.50      6554\n",
      "weighted avg       0.99      0.99      0.99      6554\n",
      "\n",
      "---aid_related---\n",
      "              precision    recall  f1-score   support\n",
      "\n",
      "           0       0.77      0.88      0.82      3777\n",
      "           1       0.80      0.64      0.71      2777\n",
      "\n",
      "    accuracy                           0.78      6554\n",
      "   macro avg       0.78      0.76      0.76      6554\n",
      "weighted avg       0.78      0.78      0.77      6554\n",
      "\n",
      "---medical_help---\n",
      "              precision    recall  f1-score   support\n",
      "\n",
      "           0       0.94      0.99      0.96      6040\n",
      "           1       0.63      0.21      0.31       514\n",
      "\n",
      "    accuracy                           0.93      6554\n",
      "   macro avg       0.79      0.60      0.64      6554\n",
      "weighted avg       0.91      0.93      0.91      6554\n",
      "\n",
      "---medical_products---\n",
      "              precision    recall  f1-score   support\n",
      "\n",
      "           0       0.96      0.99      0.98      6229\n",
      "           1       0.66      0.25      0.37       325\n",
      "\n",
      "    accuracy                           0.96      6554\n",
      "   macro avg       0.81      0.62      0.67      6554\n",
      "weighted avg       0.95      0.96      0.95      6554\n",
      "\n",
      "---search_and_rescue---\n",
      "              precision    recall  f1-score   support\n",
      "\n",
      "           0       0.97      1.00      0.99      6360\n",
      "           1       0.70      0.15      0.25       194\n",
      "\n",
      "    accuracy                           0.97      6554\n",
      "   macro avg       0.84      0.58      0.62      6554\n",
      "weighted avg       0.97      0.97      0.96      6554\n",
      "\n",
      "---security---\n",
      "              precision    recall  f1-score   support\n",
      "\n",
      "           0       0.98      1.00      0.99      6425\n",
      "           1       0.27      0.02      0.04       129\n",
      "\n",
      "    accuracy                           0.98      6554\n",
      "   macro avg       0.63      0.51      0.52      6554\n",
      "weighted avg       0.97      0.98      0.97      6554\n",
      "\n",
      "---military---\n",
      "              precision    recall  f1-score   support\n",
      "\n",
      "           0       0.97      1.00      0.99      6333\n",
      "           1       0.73      0.25      0.38       221\n",
      "\n",
      "    accuracy                           0.97      6554\n",
      "   macro avg       0.85      0.63      0.68      6554\n",
      "weighted avg       0.97      0.97      0.96      6554\n",
      "\n",
      "---child_alone---\n",
      "              precision    recall  f1-score   support\n",
      "\n",
      "           0       1.00      1.00      1.00      6554\n",
      "\n",
      "    accuracy                           1.00      6554\n",
      "   macro avg       1.00      1.00      1.00      6554\n",
      "weighted avg       1.00      1.00      1.00      6554\n",
      "\n",
      "---water---\n",
      "              precision    recall  f1-score   support\n",
      "\n",
      "           0       0.98      0.99      0.98      6162\n",
      "           1       0.75      0.69      0.71       392\n",
      "\n",
      "    accuracy                           0.97      6554\n",
      "   macro avg       0.86      0.84      0.85      6554\n",
      "weighted avg       0.97      0.97      0.97      6554\n",
      "\n",
      "---food---\n",
      "              precision    recall  f1-score   support\n",
      "\n",
      "           0       0.96      0.98      0.97      5823\n",
      "           1       0.82      0.69      0.75       731\n",
      "\n",
      "    accuracy                           0.95      6554\n",
      "   macro avg       0.89      0.84      0.86      6554\n",
      "weighted avg       0.95      0.95      0.95      6554\n",
      "\n",
      "---shelter---\n",
      "              precision    recall  f1-score   support\n",
      "\n",
      "           0       0.96      0.99      0.97      5992\n",
      "           1       0.82      0.57      0.67       562\n",
      "\n",
      "    accuracy                           0.95      6554\n",
      "   macro avg       0.89      0.78      0.82      6554\n",
      "weighted avg       0.95      0.95      0.95      6554\n",
      "\n",
      "---clothing---\n",
      "              precision    recall  f1-score   support\n",
      "\n",
      "           0       0.99      1.00      0.99      6459\n",
      "           1       0.72      0.40      0.51        95\n",
      "\n",
      "    accuracy                           0.99      6554\n",
      "   macro avg       0.85      0.70      0.75      6554\n",
      "weighted avg       0.99      0.99      0.99      6554\n",
      "\n",
      "---money---\n",
      "              precision    recall  f1-score   support\n",
      "\n",
      "           0       0.98      1.00      0.99      6400\n",
      "           1       0.71      0.25      0.37       154\n",
      "\n",
      "    accuracy                           0.98      6554\n",
      "   macro avg       0.85      0.63      0.68      6554\n",
      "weighted avg       0.98      0.98      0.98      6554\n",
      "\n",
      "---missing_people---\n",
      "              precision    recall  f1-score   support\n",
      "\n",
      "           0       0.99      1.00      1.00      6478\n",
      "           1       0.83      0.25      0.38        76\n",
      "\n",
      "    accuracy                           0.99      6554\n",
      "   macro avg       0.91      0.62      0.69      6554\n",
      "weighted avg       0.99      0.99      0.99      6554\n",
      "\n",
      "---refugees---\n",
      "              precision    recall  f1-score   support\n",
      "\n",
      "           0       0.97      1.00      0.98      6326\n",
      "           1       0.64      0.18      0.29       228\n",
      "\n",
      "    accuracy                           0.97      6554\n",
      "   macro avg       0.80      0.59      0.63      6554\n",
      "weighted avg       0.96      0.97      0.96      6554\n",
      "\n",
      "---death---\n",
      "              precision    recall  f1-score   support\n",
      "\n",
      "           0       0.97      0.99      0.98      6249\n",
      "           1       0.79      0.43      0.56       305\n",
      "\n",
      "    accuracy                           0.97      6554\n",
      "   macro avg       0.88      0.71      0.77      6554\n",
      "weighted avg       0.96      0.97      0.96      6554\n",
      "\n",
      "---other_aid---\n",
      "              precision    recall  f1-score   support\n",
      "\n",
      "           0       0.87      0.99      0.93      5637\n",
      "           1       0.58      0.11      0.19       917\n",
      "\n",
      "    accuracy                           0.86      6554\n",
      "   macro avg       0.73      0.55      0.56      6554\n",
      "weighted avg       0.83      0.86      0.82      6554\n",
      "\n",
      "---infrastructure_related---\n",
      "              precision    recall  f1-score   support\n",
      "\n",
      "           0       0.94      1.00      0.97      6129\n",
      "           1       0.64      0.07      0.12       425\n",
      "\n",
      "    accuracy                           0.94      6554\n",
      "   macro avg       0.79      0.53      0.55      6554\n",
      "weighted avg       0.92      0.94      0.91      6554\n",
      "\n",
      "---transport---\n",
      "              precision    recall  f1-score   support\n",
      "\n",
      "           0       0.96      1.00      0.98      6259\n",
      "           1       0.78      0.20      0.32       295\n",
      "\n",
      "    accuracy                           0.96      6554\n",
      "   macro avg       0.87      0.60      0.65      6554\n",
      "weighted avg       0.96      0.96      0.95      6554\n",
      "\n",
      "---buildings---\n",
      "              precision    recall  f1-score   support\n",
      "\n",
      "           0       0.97      0.99      0.98      6227\n",
      "           1       0.68      0.35      0.46       327\n",
      "\n",
      "    accuracy                           0.96      6554\n",
      "   macro avg       0.82      0.67      0.72      6554\n",
      "weighted avg       0.95      0.96      0.95      6554\n",
      "\n",
      "---electricity---\n",
      "              precision    recall  f1-score   support\n",
      "\n",
      "           0       0.98      1.00      0.99      6417\n",
      "           1       0.62      0.18      0.28       137\n",
      "\n",
      "    accuracy                           0.98      6554\n",
      "   macro avg       0.80      0.59      0.64      6554\n",
      "weighted avg       0.98      0.98      0.98      6554\n",
      "\n",
      "---tools---\n",
      "              precision    recall  f1-score   support\n",
      "\n",
      "           0       0.99      1.00      1.00      6513\n",
      "           1       0.00      0.00      0.00        41\n",
      "\n",
      "    accuracy                           0.99      6554\n",
      "   macro avg       0.50      0.50      0.50      6554\n",
      "weighted avg       0.99      0.99      0.99      6554\n",
      "\n",
      "---hospitals---\n",
      "              precision    recall  f1-score   support\n",
      "\n",
      "           0       0.99      1.00      0.99      6479\n",
      "           1       0.32      0.09      0.14        75\n",
      "\n",
      "    accuracy                           0.99      6554\n",
      "   macro avg       0.65      0.55      0.57      6554\n",
      "weighted avg       0.98      0.99      0.98      6554\n",
      "\n",
      "---shops---\n",
      "              precision    recall  f1-score   support\n",
      "\n",
      "           0       1.00      1.00      1.00      6525\n",
      "           1       0.00      0.00      0.00        29\n",
      "\n",
      "    accuracy                           1.00      6554\n",
      "   macro avg       0.50      0.50      0.50      6554\n",
      "weighted avg       0.99      1.00      0.99      6554\n",
      "\n",
      "---aid_centers---\n",
      "              precision    recall  f1-score   support\n",
      "\n",
      "           0       0.99      1.00      0.99      6477\n",
      "           1       0.41      0.09      0.15        77\n",
      "\n",
      "    accuracy                           0.99      6554\n",
      "   macro avg       0.70      0.54      0.57      6554\n",
      "weighted avg       0.98      0.99      0.98      6554\n",
      "\n",
      "---other_infrastructure---\n",
      "              precision    recall  f1-score   support\n",
      "\n",
      "           0       0.96      1.00      0.98      6275\n",
      "           1       0.53      0.06      0.11       279\n",
      "\n",
      "    accuracy                           0.96      6554\n",
      "   macro avg       0.75      0.53      0.54      6554\n",
      "weighted avg       0.94      0.96      0.94      6554\n",
      "\n",
      "---weather_related---\n",
      "              precision    recall  f1-score   support\n",
      "\n",
      "           0       0.87      0.96      0.92      4737\n",
      "           1       0.87      0.64      0.74      1817\n",
      "\n",
      "    accuracy                           0.87      6554\n",
      "   macro avg       0.87      0.80      0.83      6554\n",
      "weighted avg       0.87      0.87      0.87      6554\n",
      "\n",
      "---floods---\n",
      "              precision    recall  f1-score   support\n",
      "\n",
      "           0       0.96      0.99      0.98      6026\n",
      "           1       0.89      0.52      0.66       528\n",
      "\n",
      "    accuracy                           0.96      6554\n",
      "   macro avg       0.93      0.76      0.82      6554\n",
      "weighted avg       0.95      0.96      0.95      6554\n",
      "\n",
      "---storm---\n",
      "              precision    recall  f1-score   support\n",
      "\n",
      "           0       0.95      0.99      0.97      5945\n",
      "           1       0.77      0.49      0.60       609\n",
      "\n",
      "    accuracy                           0.94      6554\n",
      "   macro avg       0.86      0.74      0.78      6554\n",
      "weighted avg       0.93      0.94      0.93      6554\n",
      "\n",
      "---fire---\n",
      "              precision    recall  f1-score   support\n",
      "\n",
      "           0       0.99      1.00      1.00      6489\n",
      "           1       0.65      0.23      0.34        65\n",
      "\n",
      "    accuracy                           0.99      6554\n",
      "   macro avg       0.82      0.61      0.67      6554\n",
      "weighted avg       0.99      0.99      0.99      6554\n",
      "\n",
      "---earthquake---\n",
      "              precision    recall  f1-score   support\n",
      "\n",
      "           0       0.98      0.99      0.98      5944\n",
      "           1       0.88      0.78      0.83       610\n",
      "\n",
      "    accuracy                           0.97      6554\n",
      "   macro avg       0.93      0.89      0.90      6554\n",
      "weighted avg       0.97      0.97      0.97      6554\n",
      "\n",
      "---cold---\n",
      "              precision    recall  f1-score   support\n",
      "\n",
      "           0       0.99      1.00      0.99      6430\n",
      "           1       0.70      0.35      0.46       124\n",
      "\n",
      "    accuracy                           0.98      6554\n",
      "   macro avg       0.85      0.67      0.73      6554\n",
      "weighted avg       0.98      0.98      0.98      6554\n",
      "\n",
      "---other_weather---\n",
      "              precision    recall  f1-score   support\n",
      "\n",
      "           0       0.95      1.00      0.97      6208\n",
      "           1       0.60      0.12      0.21       346\n",
      "\n",
      "    accuracy                           0.95      6554\n",
      "   macro avg       0.78      0.56      0.59      6554\n",
      "weighted avg       0.93      0.95      0.93      6554\n",
      "\n",
      "---direct_report---\n",
      "              precision    recall  f1-score   support\n",
      "\n",
      "           0       0.89      0.96      0.93      5286\n",
      "           1       0.77      0.50      0.61      1268\n",
      "\n",
      "    accuracy                           0.87      6554\n",
      "   macro avg       0.83      0.73      0.77      6554\n",
      "weighted avg       0.87      0.87      0.86      6554\n",
      "\n"
     ]
    }
   ],
   "source": [
    "#Let's predict with our new model and see the resuls with classification report\n",
    "y_pred = cv_GB_best.predict(X_test)\n",
    "for index,c in enumerate(y_test.columns):\n",
    "    print (\"---\" +c+ \"---\")\n",
    "    print(classification_report (y_test.iloc[:,index].values, y_pred[:,index]))"
   ]
  },
  {
   "cell_type": "code",
   "execution_count": null,
   "metadata": {},
   "outputs": [],
   "source": [
    "cv_GB.best_params_"
   ]
  },
  {
   "cell_type": "markdown",
   "metadata": {},
   "source": [
    "### 9. Export your model as a pickle file"
   ]
  },
  {
   "cell_type": "code",
   "execution_count": 12,
   "metadata": {},
   "outputs": [],
   "source": [
    "#with save our model under the name bs_classifier.pkl\n",
    "with open (\"bs_classifier.pkl\",'wb') as f:\n",
    "    pickle.dump(cv_GB_best,f)"
   ]
  },
  {
   "cell_type": "markdown",
   "metadata": {},
   "source": [
    "### 10. Use this notebook to complete `train.py`\n",
    "Use the template file attached in the Resources folder to write a script that runs the steps above to create a database and export a model based on a new dataset specified by the user."
   ]
  },
  {
   "cell_type": "code",
   "execution_count": null,
   "metadata": {},
   "outputs": [],
   "source": []
  }
 ],
 "metadata": {
  "kernelspec": {
   "display_name": "Python 3",
   "language": "python",
   "name": "python3"
  },
  "language_info": {
   "codemirror_mode": {
    "name": "ipython",
    "version": 3
   },
   "file_extension": ".py",
   "mimetype": "text/x-python",
   "name": "python",
   "nbconvert_exporter": "python",
   "pygments_lexer": "ipython3",
   "version": "3.12.0"
  }
 },
 "nbformat": 4,
 "nbformat_minor": 2
}
